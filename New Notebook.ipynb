{
 "cells": [
  {
   "cell_type": "markdown",
   "metadata": {},
   "source": [
    "## Automação de Área Trabalhada - Silvicultura (DEPLA-P + DESIL-N)"
   ]
  },
  {
   "cell_type": "markdown",
   "metadata": {},
   "source": [
    "Sistemas de identificação de operação e área efetiva trabalhada em conjunto com detalhamento de data e hora final de operação auxiliam o gestor a entender os processos florestais que muitas vezes sofrem por equipamentos que nao estão atualizados a disponibilizar tais informações.\n",
    "\n",
    "Atualmente a CENIBRA dispoem de tratores e maquináros que contam com equipamentos que medem o tipo de levantamento elencado por este trabalho e outras informações mais apuradas, mas o contrato dos mesmos e o suporte gera um elevado custo no montante final da operação silvicultural.\n",
    "\n",
    "Deste modo, o DEPLA-P em conjunto com o DESIL-N, desenvolveu uma ferramenta que elenca tais informações com equipamentos e *softwares* que já estão disponíveis para utilização na CENIBRA. Tanto a disponibilização de mapas como o levantamento de informações é realizado atraves do *GisAgri* que é um suite de ferramentas de gestão de processos florestais que ajuda na governança das informações e rastreabilidade, ligado ao banco de dados da empresa.\n",
    "\n",
    "Já o processamento dos dados capturados é feita pelo *software ArcGis Pro*, que conta com integração total a plataforma de captura e disponibilização de mapas online."
   ]
  },
  {
   "cell_type": "markdown",
   "metadata": {},
   "source": [
    "### 1. Importação de pacotes e modulos para o ambiente de trabalho.\n",
    "\n",
    "> **Módulos:** Sao arquivos que contem funções e definições pré estabelecidas para utilização do usuário de forma a modularizar o codigo. Isto torna a interação do desenvolvedor muito mais facil para entendimento e limpeza do script. Sem mencionar a re-utilização de um mesmo módulo em varios scripts diferentes.\n",
    "\n",
    "> **Pacotes:** São um conjunto de funções e definições, em sua essencia modulos com diferentes funcionalidades. Podemos criar pacotes diferentes de acordo com nosso intuito de trabalho ou importar pacotes pré criados, como o `Arcpy`, pacote nativo do *ArcGis Pro*\n",
    "\n",
    "**Nota:** O Arcgis estabelece as definições de modulo e pacote trocadas."
   ]
  },
  {
   "cell_type": "code",
   "execution_count": 229,
   "metadata": {},
   "outputs": [],
   "source": [
    "# Importação dos pacotes para o ambiente virtual\n",
    "# Pacotes nativos do ArcGis\n",
    "import arcpy\n",
    "from arcpy.sa import *\n",
    "from arcpy import env\n",
    "# Pacote de datas\n",
    "from datetime import datetime, timedelta\n",
    "# Pacote para geração de chaves randomicas\n",
    "import random\n",
    "import string\n",
    "# Pacote para envio de email\n",
    "import smtplib\n",
    "import csv\n",
    "import pandas as pd\n",
    "# Limite indeterminado para colunas e linhas\n",
    "pd.set_option('display.max_columns', None)\n",
    "pd.set_option('display.max_rows', None)\n",
    "# Sobreposição de arquivos gerados na database\n",
    "arcpy.env.overwriteOutput = True"
   ]
  },
  {
   "cell_type": "markdown",
   "metadata": {},
   "source": [
    "### 2. Compreção da base de dados e Reconciliamento."
   ]
  },
  {
   "cell_type": "markdown",
   "metadata": {},
   "source": [
    "A definição no começo da *string* com a letra `r`, significa que a mesma será tratada como *raw string*. Podemos observar o tratamento do caminho definido na documentação do Python 2 sobre *String Literas* (https://docs.python.org/2/reference/lexical_analysis.html#string-literals)."
   ]
  },
  {
   "cell_type": "code",
   "execution_count": 2,
   "metadata": {},
   "outputs": [],
   "source": [
    "# Identificação do caminho da sde para o Compress\n",
    "sde = r\"\\\\cnbbogis01\\runtime\\sde_publisher@prd.sde\""
   ]
  },
  {
   "attachments": {
    "GUID-351DEC17-32EA-4675-8434-FCDAC1891FF5-web.png": {
     "image/png": "[encoded data removed]"
    }
   },
   "cell_type": "markdown",
   "metadata": {},
   "source": [
    "**Compress, melhores práticas**\n",
    "\n",
    "> Melhora a performance e eficiencia da geodatabase;\n",
    "\n",
    "> Uma vez a gdb/sde comprimida, registros deletados nao podem ser recuperados;\n",
    "\n",
    "> Uma gd/sde comprimida nao apenas reduz o requerimento de espaço mas tambem reduz o tempo de tentativa para conseguir importar os dados;\n",
    "\n",
    "> Esta ferramenta nao é utilizada a gdb Enterprise que nao utiliza versionamento.\n",
    "\n",
    "**Versionamento**\n",
    "\n",
    "Em cenários de utilização de base de multi usuários, as versões permitem trabalhar com o mesmo dado ao mesmo tempo sem a aplicação de lock ou duplicação dos dados, provendo cada editor seu dado unico, e isolado. Quando a edição é finalizada a versão é então unida ao dado original de que foi criada.\n",
    "![GUID-351DEC17-32EA-4675-8434-FCDAC1891FF5-web.png](attachment:GUID-351DEC17-32EA-4675-8434-FCDAC1891FF5-web.png)\n",
    "\n",
    "**Tipos de versionamento**\n",
    "\n",
    "Cada tipo de versionamento disponível é caracterizado por um tipo de workflow.\n",
    "\n",
    "> Branch versioning: Facilita os modelos em deploy de Web GIS permitindo a edição de multiusuários e transações longas via feature services;\n",
    "\n",
    "> Traditional versioning: Permite a flexibilidade de trabalhar com versoes para longas transações quando acessados diretamenta da gdb/sde enterprise e fornece uma experiencia simples de edição quando trabalhando com feature services para acomodar transações curtas.\n",
    ">> Traditional versioning com opção de mover edições para a base: Uma opçao ao versionamento tradicional que permite ao editor e aplicações terem acesso direto a base de dados enquanto outros editores possam trabalhar com suas versoes isoladas.\n",
    "\n",
    "*Mais info: https://pro.arcgis.com/en/pro-app/2.8/help/data/geodatabases/overview/versioning-types.htm#GUID-272BEE5B-1466-4861-BC94-1F4AB148E235*\n",
    "\n",
    "\n",
    "Independente do tipo de versionamento todas as versões devem ser registradas para permitir a participação dentro do geodatabase. A partir do momento em que registramos o dados como versionado, podemos começar a trabalgar com nossa versão criando uma ramificação do dado default.\n",
    "\n",
    "Todas versões criadas da base original são consideradas filhas. Com o decorrer do tempo, as versões divergem a medida que mudanças são feitas quando comparadas a base ancestral e a outras versoes de usuarios. A medida que novas versões são criadas, uma arquitetura em árvore é criada e começa a se desenvolver, isto é chamado de árvore de versões da base.\n",
    "\n",
    "**Reconciliamento**\n",
    "\n",
    "Quando a base de dados passa por reconciliamento, as versões filhas de usuários são integradas a versão default.\n",
    "*OBS.: Quando dois usuários estão trabalhando na mesma base de dados, com duas versões diferentes e diferentes tipos de edições (i.e. numero de linhas), pode ocorrer conflito de reconciliamento. Neste caso o processo permite a escolha do administrados da base de qual versão de usuário deverá ser mantida.*"
   ]
  },
  {
   "cell_type": "code",
   "execution_count": null,
   "metadata": {},
   "outputs": [],
   "source": [
    "# Comprimindo os arquivos da sde, pela remoção dos estados nao referenciados pela versão e valores reduntantes de linhas.\n",
    "# No geral o compress aumenta a performance e eficiencia da sde\n",
    "arcpy.management.Compress(sde)"
   ]
  },
  {
   "cell_type": "code",
   "execution_count": null,
   "metadata": {},
   "outputs": [],
   "source": [
    "# Pela lista de compreensao listar as versoes onde o dono é o usuário\n",
    "# e ter certeza que o sde.default nao é selecionado\n",
    "verList = [ver.name for ver in arcpy.da.ListVersions(sde) if ver.isOwner == True and ver.name.upper() != 'SDE_PUBLISHER.DEFAULT']"
   ]
  },
  {
   "cell_type": "code",
   "execution_count": null,
   "metadata": {},
   "outputs": [],
   "source": [
    "# Reconciliamento de versoes detecta diferenças entre as edições de versao e as versoes alvo e \n",
    "# realiza um flag da diferença como conflitantes\n",
    "print(\"Iniciando reconciliamento de versões....\")\n",
    "arcpy.management.ReconcileVersions(sde, \"ALL_VERSIONS\", \"SDE_PUBLISHER.DEFAULT\", verList, \"LOCK_ACQUIRED\", \"NO_ABORT\",\n",
    "                                   \"BY_OBJECT\", \"FAVOR_TARGET_VERSION\", \"POST\", \"DELETE_VERSION\")\n",
    "print(\"Reconciliamento de versões concluido!\")"
   ]
  },
  {
   "cell_type": "markdown",
   "metadata": {},
   "source": [
    "### 3. Identificação de base de dados."
   ]
  },
  {
   "attachments": {
    "imagem_2022-06-02_110722840.png": {
     "image/png": "[encoded data removed]"
    }
   },
   "cell_type": "markdown",
   "metadata": {},
   "source": [
    "As novas linhas geradas pelos operadores do mapa disponibilizado pelo GisAgri serão selecionadas de acordo com uma chave de identificação. Como padrão as linhas criadas contém um campo denominado **ID_REGRA**, no qual, é nulo quando a base passa pelo reconciliamento de versões.\n",
    "\n",
    "As linhas identificadas na base de dados com o campo **ID_REGRA** nulo são selecionadas para os devidos tratamentos e operações com a finalidade do cálculo de área efetiva da operação de silvicultura.\n",
    "\n",
    "A criação da regra chave para os campos nulos segue por determinação randomica de tamanho de 10 caracteres pela palavra `SiLvIcUlTuRaCeLuLoSeNiPoBrAsIlEiRaSa08032022`.\n",
    "\n",
    "**Buffer de operações**\n",
    "\n",
    "Cada operação apresenta uma distancia efetiva de trabalho da linha de coleta, também foi considerado o erro do sinal de GPS em um diametro de 3 metros. As operações, descrições e distancia de área efetiva trabalhada sem considerar o erro são descritas abaixo.\n",
    "\n",
    "![imagem_2022-06-02_110722840.png](attachment:imagem_2022-06-02_110722840.png)"
   ]
  },
  {
   "cell_type": "code",
   "execution_count": 3,
   "metadata": {},
   "outputs": [],
   "source": [
    "# Set da gdb de trabalho (local de criação da trash bin)\n",
    "arcpy.env.workspace = r\"\\\\cnbbogis01\\runtime\\Temporários\\Leonardo\\Silvicultura.gdb\""
   ]
  },
  {
   "cell_type": "code",
   "execution_count": 4,
   "metadata": {},
   "outputs": [],
   "source": [
    "# Identificação dos datasets Linhas Silvicultura e Poligonos do Uso Solo\n",
    "linhas = r\"\\\\cnbbogis01\\runtime\\sde_publisher@prd.sde\\SDE_PUBLISHER.Editavel_Silvicultura\\SDE_PUBLISHER.Silvicultura_Linha\"\n",
    "solo = r\"\\\\cnbbogis01\\runtime\\sde_publisher@prd.sde\\SDE_PUBLISHER.CAD_USO_SOLO_PROPRIO\""
   ]
  },
  {
   "cell_type": "code",
   "execution_count": 5,
   "metadata": {},
   "outputs": [],
   "source": [
    "# Seleção de linhas recem adicionadas\n",
    "z = arcpy.management.SelectLayerByAttribute(linhas, \"NEW_SELECTION\", 'ID_REGRA is Null')"
   ]
  },
  {
   "cell_type": "code",
   "execution_count": 6,
   "metadata": {},
   "outputs": [
    {
     "name": "stdout",
     "output_type": "stream",
     "text": [
      "Atualização dos dados da tabela de atributos concluida!! :)\n"
     ]
    }
   ],
   "source": [
    "# Atualização dos valores do field Buffer de acordo com operação\n",
    "fc = arcpy.UpdateCursor(linhas)\n",
    "for row in fc:\n",
    "    row.ID_REGRA = ''.join(random.choice('SiLvIcUlTuRaCeLuLoSeNiPoBrAsIlEiRaSa08032022') for _ in range(10))\n",
    "    fc.updateRow(row)\n",
    "    if row.getValue(\"OPERACAO\") == '1':\n",
    "        row.BUFFER = '9'\n",
    "        fc.updateRow(row)\n",
    "    if row.getValue(\"OPERACAO\") == '2':\n",
    "        row.BUFFER = '12'\n",
    "        fc.updateRow(row)\n",
    "    if row.getValue(\"OPERACAO\") == '3':\n",
    "        row.BUFFER = '12'\n",
    "        fc.updateRow(row)\n",
    "    if row.getValue(\"OPERACAO\") == '4':\n",
    "        row.BUFFER = '6'\n",
    "        fc.updateRow(row)\n",
    "    if row.getValue(\"OPERACAO\") == '5':\n",
    "        row.BUFFER = '6'\n",
    "        fc.updateRow(row)\n",
    "    if row.getValue(\"OPERACAO\") == '6':\n",
    "        row.BUFFER = '5'\n",
    "        fc.updateRow(row)\n",
    "    if row.getValue(\"OPERACAO\") == '7':\n",
    "        row.BUFFER = '12'\n",
    "        fc.updateRow(row)\n",
    "    if row.getValue(\"OPERACAO\") == '8':\n",
    "        row.BUFFER = '9'\n",
    "        fc.updateRow(row)\n",
    "    if row.getValue(\"OPERACAO\") == '9':\n",
    "        row.BUFFER = '12'\n",
    "        fc.updateRow(row)\n",
    "    if row.getValue(\"OPERACAO\") == '10':\n",
    "        row.BUFFER = '6'\n",
    "        fc.updateRow(row)\n",
    "    if row.getValue(\"OPERACAO\") == '11':\n",
    "        row.BUFFER = '6'\n",
    "        fc.updateRow(row)\n",
    "    if row.getValue(\"OPERACAO\") == '12':\n",
    "        row.BUFFER = '12'\n",
    "        fc.updateRow(row)\n",
    "    if row.getValue(\"OPERACAO\") == '13':\n",
    "        row.BUFFER = '5'\n",
    "        fc.updateRow(row)\n",
    "    \n",
    "        \n",
    "del row\n",
    "del fc\n",
    "print('Atualização dos dados da tabela de atributos concluida!! :)')"
   ]
  },
  {
   "cell_type": "markdown",
   "metadata": {},
   "source": [
    "### 4. Criação de poligonos e exportação de dados."
   ]
  },
  {
   "cell_type": "markdown",
   "metadata": {},
   "source": [
    " Como `z` foi definido para seleção de valores nulos que foram adicionados recentemente a base de dados, o numero de linhas em `z` servirá para identificação da quantidade de linhas que serão trabalhadas.\n",
    " \n",
    " Para o quantitativo do arcgis ele leva em consideração a linha de header da tabela de atributos como uma linha, logo, se `z` for maior que 1, será identificado que linhas foram criadas e a análise será continuada.\n",
    " \n",
    "**Em continuação ao processo:**\n",
    "\n",
    "> Criação do buffer de linhas de forma variável por tipo de operação + erro gps;\n",
    "\n",
    "> Clip de poligonos gerados pelo buffer pelo poligono de uso de solo proprio (remoção de poligonos em estrada);\n",
    "\n",
    "> Explosão de poligonos clipados para identificação de cada um de forma unica;\n",
    "\n",
    "> Junção espacial de poligonos explodidos com os poligonos que estão sobrepostos de uso do solo para extração de informações categoricas e ordinais;\n",
    "\n",
    "> Cálculo de área dos poligonos;\n",
    "\n",
    "> Sumarização das áreas calculadas de poligonos para identificação do poligono com maior área;\n",
    "*Os polignos para cada linha de maior área serão os considerados como o correto. Por que? A criação dos buffers de operações podem gerar pedaços de poligonos que apos o clip e explosão fiquem de fora do talhão, nao representam de fato uma área trabalhada durante a operação de silvicultura. Logo, as maiores áreas estarão de fato dentro da área trabalhada.*\n",
    "\n",
    "> Seleção de poligonos com maiores áreas e dissolve dos mesmos de acordo com a operação e o REF_ID do talhão;\n",
    "\n",
    "> Junção espacial dos poligonos dissolvidos com as linhas submetidas pelos usuários para extração de data e hora de trabalho *OBS.: Remoção `timedelta(UTC-3)` pois todos horarios são considerados em outro fuso dentro da plataforma ArcGis*;\n",
    "\n",
    "> Adição de descrição da operação de acordo com ID do dominio pré cadastrado para apontamento de usuários;\n",
    "\n",
    "> Remoção de campos que nao serão necessários para o mapa final;\n",
    "\n",
    "> Alteração de nomeclatura de atributos da coluna;\n",
    "\n",
    "> Criação de novo campo para label *O mesmo aparece cada coluna de interesse em uma nova linha*;\n",
    "\n",
    "> Append dos dados análisados e gerados ao mosaico de operações de silvicultura atual.\n",
    "\n",
    "\n",
    "**Envio de e-mails via SMTP**\n",
    "\n",
    "Após a análise e devida contabilização de poligonos criados, um email é disparado para os contatos pré cadastrados informando o REF_ID de onde a área foi trabalhada, o tipo de operação, a data e hora em que foi sincronizado a linha no sistema e a área total do poligono em hectares.\n"
   ]
  },
  {
   "cell_type": "code",
   "execution_count": 7,
   "metadata": {},
   "outputs": [],
   "source": [
    "# Criação de copia das linhas a serem trabalhadas\n",
    "att = arcpy.CopyFeatures_management(z)\n",
    "att1 = arcpy.management.GetCount(att)"
   ]
  },
  {
   "cell_type": "code",
   "execution_count": 8,
   "metadata": {
    "scrolled": false
   },
   "outputs": [
    {
     "name": "stdout",
     "output_type": "stream",
     "text": [
      "Dissolvendo poligonos gerados...\n",
      "Poligonos dissolvidos com sucesso!\n",
      "Atualização dos dados da tabela de atributos concluida!! :)\n"
     ]
    }
   ],
   "source": [
    "if int(att1[0]) == 1:\n",
    "    print('Nenhuma nova linha cadastrada. Encerrando o processamento.')\n",
    "    pass\n",
    "if int(att1[0]) > 1:\n",
    "    # Buffer de linhas Silvicultura por tamanho variavel (de acordo com operação - vide planilha)\n",
    "    buff = r\"\\\\cnbbogis01\\runtime\\Temporários\\Leonardo\\Silvicultura.gdb\\buffer\"\n",
    "    arcpy.analysis.Buffer(att, buff, \"BUFFER\")\n",
    "    \n",
    "    # Clip das áreas \"bufferizadas\" com poligonos de uso do solo\n",
    "    clip = r\"\\\\cnbbogis01\\runtime\\Temporários\\Leonardo\\Silvicultura.gdb\\clip\"\n",
    "    arcpy.analysis.Clip(buff, solo, clip)\n",
    "    \n",
    "    # Explosão dos poligonos clipados de acordo com uso do solo\n",
    "    exploded = r\"\\\\cnbbogis01\\runtime\\Temporários\\Leonardo\\Silvicultura.gdb\\exploded\"\n",
    "    arcpy.management.MultipartToSinglepart(clip, exploded)\n",
    "    \n",
    "    # Fetch de dados do cadastro de uso do solo\n",
    "    expl = r\"\\\\cnbbogis01\\runtime\\Temporários\\Leonardo\\Silvicultura.gdb\\exploded_joined\"\n",
    "    arcpy.analysis.SpatialJoin(exploded, solo, expl, \"JOIN_ONE_TO_ONE\", \"\", \"\", \"LARGEST_OVERLAP\")\n",
    "    \n",
    "    # Calculo geometrico de área dos poligonos clipados em m2\n",
    "    arcpy.management.AddGeometryAttributes(expl, \"AREA\", \"\", \"SQUARE_METERS\")\n",
    "    \n",
    "    # Summarize para encontrar as maiores áreas de acordo com ID de origem\n",
    "    # Racionalmente, maiores áreas de poligono serão as que nao sobreporam areas fora da área de manejo \"erroneamente\"\n",
    "    selection = r\"\\\\cnbbogis01\\runtime\\Temporários\\Leonardo\\Silvicultura.gdb\\selection\"\n",
    "    arcpy.Statistics_analysis(expl, selection,[['POLY_AREA', 'MAX']], 'ORIG_FID' )\n",
    "    \n",
    "    print(\"Dissolvendo poligonos gerados...\")\n",
    "    # Conversão do .dbf summarizado em lista\n",
    "    myList = [row[0] for row in arcpy.da.SearchCursor(selection, 'MAX_POLY_AREA')]\n",
    "\n",
    "    if len(myList) > 1:\n",
    "        # Seleção de áreas completamente processadas\n",
    "        qry = 'POLY_AREA IN {0}'.format(tuple(myList))\n",
    "        areas = arcpy.management.SelectLayerByAttribute(expl, \"NEW_SELECTION\", qry)\n",
    "        # Exportar copia de features selecionadas\n",
    "        sample = r\"\\\\cnbbogis01\\runtime\\Temporários\\Leonardo\\Silvicultura.gdb\\sample\"\n",
    "        x = arcpy.CopyFeatures_management(areas, sample)\n",
    "        # Dissolve de áreas de acordo com tipo de operação\n",
    "        dissolved = r\"\\\\cnbbogis01\\runtime\\Temporários\\Leonardo\\Silvicultura.gdb\\Mosaico_Mec_silvicultura\"\n",
    "        arcpy.management.Dissolve(x, dissolved, ['OPERACAO', 'REF_ID'])\n",
    "    if len(myList) == 1:\n",
    "        dissolved = r\"\\\\cnbbogis01\\runtime\\Temporários\\Leonardo\\Silvicultura.gdb\\Mosaico_Mec_silvicultura\"\n",
    "        arcpy.management.Dissolve(expl, dissolved, ['OPERACAO', 'REF_ID'])\n",
    "\n",
    "    print(\"Poligonos dissolvidos com sucesso!\")\n",
    "    \n",
    "    \n",
    "    # Interseção dos poligonos criados com as linhas levantadas\n",
    "    join2 = r\"\\\\cnbbogis01\\runtime\\Temporários\\Leonardo\\Silvicultura.gdb\\join2\"\n",
    "    arcpy.analysis.SpatialJoin(dissolved, linhas, join2, \"JOIN_ONE_TO_ONE\", \"\", \"\", \"LARGEST_OVERLAP\")\n",
    "    \n",
    "    # Atualização das horas trabalhadas para nosso Fuso horário (UTC -03:00)\n",
    "    fc = arcpy.UpdateCursor(join2)\n",
    "    for row in fc:\n",
    "        row.CREATED_DATE = row.getValue('CREATED_DATE') - timedelta(hours=3)\n",
    "        fc.updateRow(row)\n",
    "    \n",
    "    del fc\n",
    "    del row\n",
    "\n",
    "\n",
    "    # Adição de descrição da operação de acordo com ID do Domain\n",
    "    x = r\"\\\\cnbbogis01\\runtime\\Temporários\\Leonardo\\Silvicultura.gdb\\join2\"\n",
    "    fc = arcpy.UpdateCursor(x)\n",
    "    for row in fc:\n",
    "        if row.getValue(\"Operacao\") == str(1):\n",
    "            row.Operacao = 'Capina Quím Mec TP Barra Tot Pre Emergente'\n",
    "            fc.updateRow(row)\n",
    "        if row.getValue(\"Operacao\") == str(2):\n",
    "            row.Operacao = 'Capina Quím Mec Tot  (Área Espera) - I'\n",
    "            fc.updateRow(row)\n",
    "        if row.getValue(\"Operacao\") == str(3):\n",
    "            row.Operacao = 'Capina Quím Mec Tot  (Área Espera) - II'\n",
    "            fc.updateRow(row)\n",
    "        if row.getValue(\"Operacao\") == str(4):\n",
    "            row.Operacao = 'Capina Quím Mec TP Barra Entrelinha'\n",
    "            fc.updateRow(row)\n",
    "        if row.getValue(\"Operacao\") == str(5):\n",
    "            row.Operacao = 'Capina Quím Mec TP Barra Total'\n",
    "            fc.updateRow(row)\n",
    "        if row.getValue(\"Operacao\") == str(6):\n",
    "            row.Operacao = 'Capina Quím Mec TP Estradas'\n",
    "            fc.updateRow(row)\n",
    "        if row.getValue(\"Operacao\") == str(7):\n",
    "            row.Operacao = 'Capina Quím Mec TP Pós-Plantio Total'\n",
    "            fc.updateRow(row)\n",
    "        if row.getValue(\"Operacao\") == str(8):\n",
    "            row.Operacao = 'Capina Quím Mec TP Pré-Emergente'\n",
    "            fc.updateRow(row)\n",
    "        if row.getValue(\"Operacao\") == str(9):\n",
    "            row.Operacao = 'Capina Quím Mec TP Pré-Plantio Total'\n",
    "            fc.updateRow(row)\n",
    "        if row.getValue(\"Operacao\") == str(10):\n",
    "            row.Operacao = 'Capina Quím Mec TP Barra Entrelinha Pré Emergente'\n",
    "            fc.updateRow(row)\n",
    "        if row.getValue(\"Operacao\") == str(11):\n",
    "            row.Operacao = 'Subssolagem'\n",
    "            fc.updateRow(row)\n",
    "        if row.getValue(\"Operacao\") == str(12):\n",
    "            row.Operacao = 'Adubação de cobertura TP'\n",
    "            fc.updateRow(row)\n",
    "        if row.getValue(\"Operacao\") == str(13):\n",
    "            row.Operacao = 'Roçada Mec TP Estradas'\n",
    "            fc.updateRow(row)\n",
    "        \n",
    "    del row\n",
    "    del fc\n",
    "    print('Atualização dos dados da tabela de atributos concluida!! :)')\n",
    "    \n",
    "    # Arranjo de campos para join \n",
    "    arcpy.management.DeleteField(x, [\"Join_Count\", \"TARGET_FID\", \"Regiao\", \"OBSERVACAO\", \"BUFFER\", \"ID_REGRA\", \"CREATED_USER\", \"LAST_EDITED_USER\", \"LAST_EDITED_DATE\", \"OPERACAO_1\" ])\n",
    "    \n",
    "    arcpy.management.AlterField(x, \"SHAPE\", \"SHAPE\", \"Shape\")\n",
    "    arcpy.management.AlterField(x, \"CREATED_DATE\", 'DATA', \"Data\")\n",
    "    arcpy.management.AlterField(x, \"SHAPE_Length\", 'SHAPE.LEN', \"SHAPE.LEN\")\n",
    "    arcpy.management.AlterField(x, \"SHAPE_Area\", 'SHAPE.AREA', \"SHAPE.AREA\")\n",
    "    # Criação do campo de área ha\n",
    "    arcpy.management.AddGeometryAttributes(x, \"AREA\", \"\", \"HECTARES\")\n",
    "    # Renomear campo calculado de área ha\n",
    "    arcpy.management.AlterField(x, \"POLY_AREA\", \"AREA_HA\", \"AREA_HA\")\n",
    "    # Adição de coluna de Labels\n",
    "    arcpy.management.CalculateField(x, \"LABEL\", \"!OPERACAO!+'''\\n'''+str(!AREA_HA!)+'''\\n'''+str(!DATA!)\", \"PYTHON3\", '', \"TEXT\", \"NO_ENFORCE_DOMAINS\")\n",
    "    \n",
    "    \n",
    "    # Exportação dos poligonos para .gdb (CASO NAO TENHA A FEATURE CRIADA // USADO PARA PRIMEIRO PROCESSAMENTO DE DADOS //)\n",
    "    #sde = r\"X:\\sde_publisher@prd.sde\\SDE_PUBLISHER.Mosaico_Geral\"\n",
    "    #arcpy.conversion.FeatureClassToGeodatabase(x, sde)\n",
    "    \n",
    "    # Mosaico de silvicultura MEC\n",
    "    mosaico = r\"\\\\cnbbogis01\\runtime\\sde_publisher@prd.sde\\SDE_PUBLISHER.Mosaico_Geral\\SDE_PUBLISHER.Mosaico_MEC_Silvicultura\"\n",
    "    # Append de resultados gerados para esta atualização ao mosaico original\n",
    "    arcpy.management.Append(x, mosaico)\n",
    "    \n",
    "    \n",
    "    # Criação de dataframe com valores de ref_id, operacao e area em hectares para corpo de email\n",
    "    ref = [row for row in arcpy.da.SearchCursor(x, [\"REF_ID\", \"Operacao\", \"AREA_HA\", \"Data\"])]\n",
    "    df = pd.DataFrame(ref, columns=['REF_ID', 'Operacao', \"Area (ha)\", \"Data\"])\n",
    "    # Encode das operações para remoção de acentos e cedilha\n",
    "    df.Operacao = df['Operacao'].str.normalize('NFKD').str.encode('ascii', errors='ignore').str.decode('utf-8')\n",
    "    \n",
    "    # Envio de email com informações de atualização de linhas\n",
    "    # Criando sessao SMTP\n",
    "    smtp = smtplib.SMTP('smtp-mail.outlook.com', 587)\n",
    "    # Utilização de TLS para segurança\n",
    "    smtp.starttls()\n",
    "    # Autenticação de usuário\n",
    "    smtp.login(\"CENIBRAGEO@outlook.com.br\", \"cenibra2022\")\n",
    "    # Definição dos parametros de email\n",
    "    SUBJECT = \"Atualizacao Operacoes Silvicultura - Rotina Automatica de Mecanizacao (DEPLA-P)\"\n",
    "    number = arcpy.management.GetCount(x)\n",
    "    TEXT = \"Ola, \\n\\nOs dados de operacoes de Silvicultura foram atualizados com sucesso! \\n\\n{} Poligonos foram registrados para a data{}. \\n\\n Estes, seguem descritos na tabela abaixo\\n\\n {}.\\n\\nAtt,\".format(int(number[0]), datetime.today(), df)\n",
    "    FROM = \"leonardo.rodrigues@cenibra.com.br\"\n",
    "    TO = [\"leonardo.rodrigues@cenibra.com.br\", \"tassius.araujo@cenibra.com.br\", \"guilherme.fernandes@cenibra.com.br\"]\n",
    "        \n",
    "    # Envelope da mensagem atual\n",
    "    message = \"\"\"From: %s\\r\\nTo: %s\\r\\nSubject: %s\\r\\n\\\n",
    "\n",
    "    %s\n",
    "    \"\"\" % (FROM, \", \".join(TO), SUBJECT, TEXT)\n",
    "\n",
    "    smtp.sendmail(FROM,TO ,message)\n",
    "    smtp.quit()"
   ]
  }
 ],
 "metadata": {
  "kernelspec": {
   "display_name": "Python 3 (ipykernel)",
   "language": "python",
   "name": "python3"
  },
  "language_info": {
   "codemirror_mode": {
    "name": "ipython",
    "version": 3
   },
   "file_extension": ".py",
   "mimetype": "text/x-python",
   "name": "python",
   "nbconvert_exporter": "python",
   "pygments_lexer": "ipython3",
   "version": "3.9.7"
  }
 },
 "nbformat": 4,
 "nbformat_minor": 2
}
