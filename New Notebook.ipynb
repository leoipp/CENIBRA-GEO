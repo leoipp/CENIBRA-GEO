{
 "cells": [
  {
   "cell_type": "code",
   "execution_count": 1,
   "metadata": {},
   "outputs": [],
   "source": [
    "# Importação de pacotes para o ambiente\n",
    "import arcpy"
   ]
  },
  {
   "cell_type": "code",
   "execution_count": 2,
   "metadata": {},
   "outputs": [],
   "source": [
    "# Identificação do caminho da sde\n",
    "sde = r\"X:\\sde_publisher@prd.sde\""
   ]
  },
  {
   "cell_type": "code",
   "execution_count": 3,
   "metadata": {
    "scrolled": true
   },
   "outputs": [
    {
     "data": {
      "text/html": [
       "<div class='gpresult'><h2>Messages</h2><div id='messages' data-messages='[\"Start Time: quinta-feira, 12 de maio de 2022 15:18:40\",\"Succeeded at quinta-feira, 12 de maio de 2022 15:18:46 (Elapsed Time: 5,43 seconds)\"]' data-show='true'><div id = 'default' /></div></div>"
      ],
      "text/plain": [
       "<Result 'X:\\\\sde_publisher@prd.sde'>"
      ]
     },
     "execution_count": 3,
     "metadata": {},
     "output_type": "execute_result"
    }
   ],
   "source": [
    "# Comprimindo os arquivos da sde, pela remoção dos estados nao referenciados pela versão e valores reduntantes de linhas.\n",
    "# No geral o compress aumenta a performance e eficiencia da sde\n",
    "arcpy.management.Compress(sde)"
   ]
  },
  {
   "cell_type": "code",
   "execution_count": 21,
   "metadata": {},
   "outputs": [],
   "source": [
    "# Pela lista de compreensao listar as versoes onde o dono é o usuário\n",
    "# e ter certeza que o sde.default nao é selecionado\n",
    "verList = [ver.name for ver in arcpy.da.ListVersions(sde) if ver.isOwner == True and ver.name.upper() != 'SDE_PUBLISHER.DEFAULT']"
   ]
  },
  {
   "cell_type": "code",
   "execution_count": 23,
   "metadata": {},
   "outputs": [
    {
     "name": "stdout",
     "output_type": "stream",
     "text": [
      "Reconciliamento de versões concluido!\n"
     ]
    }
   ],
   "source": [
    "# Reconciliamento de versoes detecta diferenças entre as edições de versao e as versoes alvo e \n",
    "# realiza um flag da diferença como conflitantes\n",
    "arcpy.management.ReconcileVersions(sde, \"ALL_VERSIONS\", \"SDE_PUBLISHER.DEFAULT\", verList, \"LOCK_ACQUIRED\", \"NO_ABORT\",\n",
    "                                   \"BY_OBJECT\", \"FAVOR_TARGET_VERSION\", \"POST\", \"DELETE_VERSION\")\n",
    "print(\"Reconciliamento de versões concluido!\")"
   ]
  }
 ],
 "metadata": {
  "kernelspec": {
   "display_name": "ArcGISPro",
   "language": "Python",
   "name": "python3"
  },
  "language_info": {
   "file_extension": ".py",
   "name": "python",
   "version": "3"
  }
 },
 "nbformat": 4,
 "nbformat_minor": 2
}
