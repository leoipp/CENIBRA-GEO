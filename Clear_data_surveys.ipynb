{
 "cells": [
  {
   "cell_type": "code",
   "execution_count": 42,
   "metadata": {},
   "outputs": [],
   "source": [
    "def DeleteGISContent(login, password, specific_archive, list_formats_to_remove):\n",
    "    \n",
    "    # Importing packages\n",
    "    from pathlib import Path\n",
    "    import sys\n",
    "    from arcgis.gis import GIS, Item\n",
    "    from arcgis.features import FeatureLayerCollection\n",
    "    from arcgis.mapping import WebMap\n",
    "    \n",
    "    \n",
    "    # Connect to arcgis online\n",
    "    gis = GIS(\"https://arcgis.com\", login, password)\n",
    "    \n",
    "    content = gis.content.search(query=specific_archive, max_items=10000)\n",
    "    \n",
    "    print(f'Content size: {len(content)}')\n",
    "    \n",
    "    TableFormat = []\n",
    "    for i in content:\n",
    "        if not i.type in TableFormat:\n",
    "            TableFormat.append(i.type)\n",
    "            \n",
    "    print('********************')\n",
    "    print(f'Content format: {TableFormat}')\n",
    "    print('********************')\n",
    "    \n",
    "    # Remove selected type files\n",
    "    n = 0\n",
    "    for i in content:\n",
    "        for ii in list_formats_to_remove:\n",
    "            if i.type == ii:\n",
    "                i.delete()\n",
    "                n = n + 1\n",
    "                print(f'Process {n/len(content)}, Content {i.title} is being delete....')\n",
    "            else:\n",
    "                pass\n",
    "    \n",
    "    \"\"\"# Remove word type files that ends with (.docx)\n",
    "    for i in content:\n",
    "        if i.type == \"Microsoft Word\" and not (i.title.endswith(\".docx\")):\n",
    "            i.delete()\"\"\"\n",
    "    \n",
    "    \n",
    "    \n",
    "    return "
   ]
  }
 ],
 "metadata": {
  "kernelspec": {
   "display_name": "ArcGISPro",
   "language": "Python",
   "name": "python3"
  },
  "language_info": {
   "file_extension": ".py",
   "name": "python",
   "version": "3"
  }
 },
 "nbformat": 4,
 "nbformat_minor": 2
}
